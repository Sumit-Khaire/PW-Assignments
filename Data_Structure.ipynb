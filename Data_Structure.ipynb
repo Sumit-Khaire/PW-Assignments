{
  "cells": [
    {
      "cell_type": "markdown",
      "source": [
        "# Data Structure"
      ],
      "metadata": {
        "id": "hVKNUy-1P1sp"
      }
    },
    {
      "cell_type": "markdown",
      "source": [
        "1) What are data structures, and why are they important?\n",
        "   - Data structre allow the user to organise and store the data in different formats, which he/she can alter, edit or retrieve any time"
      ],
      "metadata": {
        "id": "fgY9dZ-KPxzC"
      }
    },
    {
      "cell_type": "markdown",
      "source": [
        "2) Explain the difference between mutable and immutable data types with examples.\n",
        "  - Data which is editable is called mutable type and which is non editable is called immutable\n",
        "    Eg: List[] is mutable data type and tuple() is immutable data type."
      ],
      "metadata": {
        "id": "5WfRfJ4LRRrJ"
      }
    },
    {
      "cell_type": "markdown",
      "source": [
        "3) What are the main differences between lists and tuples in Python?\n",
        "- List[] is mutable data type i.e it can be modified any time where as tuple() is immutable data type, once madle tuple cannot be modified."
      ],
      "metadata": {
        "id": "oBL4FjpvTljz"
      }
    },
    {
      "cell_type": "markdown",
      "source": [
        "4) Describe how dictionaries store data.\n",
        " - Dictionaries store data in key and value formate. eg Dic{a: \"Apple\", b: \"Ball\"}"
      ],
      "metadata": {
        "id": "iKOw9HqwTlwQ"
      }
    },
    {
      "cell_type": "markdown",
      "source": [
        "5) Why might you use a set instead of a list in Python?\n",
        " - Site allows user to store unique value, it cut off he repetative values and give back you unique set of element. list can store any data with repetative value. So to eleminate the reccuring values we can use sets."
      ],
      "metadata": {
        "id": "lpY37TFlTl4S"
      }
    },
    {
      "cell_type": "markdown",
      "source": [
        "6) What is a string in Python, and how is it different from a list?\n",
        " - String is a sequence of character, defined by a **unique code** and it's a manipulative textual data. Characters are represented using numerical values and each character is assigned a unique no eg. ASCII (7 bits) and UNICODE (16 bits). list by default saves values with indexing, also list can save data in form of string, float, boolean, intiger, etc."
      ],
      "metadata": {
        "id": "o7YSWT0bTmMm"
      }
    },
    {
      "cell_type": "markdown",
      "source": [
        "7) How do tuples ensure data integrity in Python?\n",
        " - Tuples allows to integrate different tuples by using '+' with it. We can combine and can make a new tuple by using '+' between them."
      ],
      "metadata": {
        "id": "4MmGf2ERWlk-"
      }
    },
    {
      "cell_type": "markdown",
      "source": [
        "8) What is a hash table, and how does it relate to dictionaries in Python?\n",
        " - A hash table is a data structure that stores key-value pairs. In Python, the dict type is an implementation of a hash table."
      ],
      "metadata": {
        "id": "WDzvOx_lWlpJ"
      }
    },
    {
      "cell_type": "markdown",
      "source": [
        "9) Can lists contain different data types in Python?\n",
        " - Yes, list can contain any data type."
      ],
      "metadata": {
        "id": "ZTzNEs3uWlsr"
      }
    },
    {
      "cell_type": "markdown",
      "source": [
        "10) Explain why strings are immutable in Python.\n",
        "- Python strings are \"immutable\" which means they cannot be changed after they are created i.e. if str = \"apple\" we cannot modify the  just one letter of the assigned value \"apple\" instead we have to declaire it again like str = \"jpple\"."
      ],
      "metadata": {
        "id": "uJmezYUwWlwN"
      }
    },
    {
      "cell_type": "markdown",
      "source": [
        "11) What advantages do dictionaries offer over lists for certain tasks?\n",
        " - Dictionary saves Data in key and values formate which allows to store data more systematically and eassy data retrieval. where in list values can be duplicate we'll need to remenber the index number to retieve the values."
      ],
      "metadata": {
        "id": "PKDwVv1CWlzj"
      }
    },
    {
      "cell_type": "markdown",
      "source": [
        "12) Describe a scenario where using a tuple would be preferable over a list?\n",
        " - In scenario where you want to design a protocol for let's say pharmaceutical procedure which you want to never alter in any way to avoid errors than you can use tuple instead of list as tuples are immutable."
      ],
      "metadata": {
        "id": "E4GHeBbGWl2l"
      }
    },
    {
      "cell_type": "markdown",
      "source": [
        "13) How do sets handle duplicate values in Python?\n",
        " - The main function of sets in python is that it gives unique value of data which means that it doesn't allow duplicacy, whenever duplicate values are given to sets it will only print it once. It doesn't record repeating values."
      ],
      "metadata": {
        "id": "JN64uITtrWyE"
      }
    },
    {
      "cell_type": "markdown",
      "source": [
        "14) How does the “in” keyword work differently for lists and dictionaries?\n",
        " - The \"in\" keywords always look for the keyword which is mentioned before it in the next defined keyword after it\n",
        " - eg.\n",
        " - sen = \" it is acceptable\"\n",
        "  - \"is\" in sen # it will give true\n",
        "  - when we use in for list it will check for that value in the list, while when we use it in Dictionaries it will look for the key and will return the value."
      ],
      "metadata": {
        "id": "CN10fccnrWuS"
      }
    },
    {
      "cell_type": "markdown",
      "source": [
        "15)  Can you modify the elements of a tuple? Explain why or why not?\n",
        " - Tulpe does allow data modification as it is immutable. You cannnot modify the element once a tuple is declared."
      ],
      "metadata": {
        "id": "VGDuAZQerbSZ"
      }
    },
    {
      "cell_type": "markdown",
      "source": [
        "16) What is a nested dictionary, and give an example of its use case?\n",
        " - A nested dictionary is a dictionary where the values are themselves dictionaries, creating a hierarchical structure for storing and organizing data. A use case could be retaurant menu where keys like veg, non-veg, drinks & cocktails will have sub keys have info of items with its info."
      ],
      "metadata": {
        "id": "a6bcYYD1rbPR"
      }
    },
    {
      "cell_type": "markdown",
      "source": [
        "17) Describe the time complexity of accessing elements in a dictionary?\n",
        " - In dictionary the elements are always assigned by keys, so to acccess the element you need to execute the right key. As the hash function allows direct access to the element's location, retrieving a value by its key takes, on average, constant time, O(1)."
      ],
      "metadata": {
        "id": "Q-PFVjYrrbMU"
      }
    },
    {
      "cell_type": "markdown",
      "source": [
        "18) In what situations are lists preferred over dictionaries?\n",
        " - list compare to dictionaries has very rough work kind of role. List can be of any kind which can be used for day to day task, Travel essentials, set of rules, ect. While dictionary stores data more structured way in a hierarchial order, for example any Organization can store all the employee data according to thiere Department and Designation, Employee ID, etc."
      ],
      "metadata": {
        "id": "fKX46l7orbJa"
      }
    },
    {
      "cell_type": "markdown",
      "source": [
        "19) Why are dictionaries considered unordered, and how does that affect data retrieval?\n",
        " - In dictionary the data is store in key=value pair, which makes retrival of data easy as you only need to execute the keys. Dictionary is not meant to save data in ordered form as the retrieval of data fully depends on keys which makes user to retrieve or print data in whichever manner he/she wants.\n",
        " - For example,\n",
        " - if a = { 1 : 'a', 2 : 'b' }\n",
        " - b = { 2 : 'b', 1 : 'a' }\n",
        " - a == b is true"
      ],
      "metadata": {
        "id": "GDLdfXE1rbGT"
      }
    },
    {
      "cell_type": "markdown",
      "source": [
        "20) Explain the difference between a list and a dictionary in terms of data retrieval.\n",
        " - List data stored in an ordered way through indexing to rertrieve data you need the indexng number to get exact output, which can't be handy for lengthy unmanageable lists. For dictionary this is not the case as you only need to execute the keys in whichever order you want to rerive the data. list you can save any kind of data type but on doctionary you need immutable keys. These are the major differences of list and dictionaries."
      ],
      "metadata": {
        "id": "-rmpXUKHrbBC"
      }
    },
    {
      "cell_type": "code",
      "source": [
        "# Write a code to create a string with your name and print it?\n",
        "Name = \"Summit Sunil Khaire\"\n",
        "print(Name)"
      ],
      "metadata": {
        "id": "5V5jl6R8vJd0",
        "colab": {
          "base_uri": "https://localhost:8080/"
        },
        "outputId": "3986afbc-417e-485d-e826-c1d6109d0120"
      },
      "execution_count": null,
      "outputs": [
        {
          "output_type": "stream",
          "name": "stdout",
          "text": [
            "Summit Sunil Khaire\n"
          ]
        }
      ]
    },
    {
      "cell_type": "code",
      "source": [
        "# Write a code to find the length of the string \"Hello World\".\n",
        "sentence = \"Hello World\"\n",
        "print(len(sentence))"
      ],
      "metadata": {
        "id": "Is1qnpBGvPqx",
        "colab": {
          "base_uri": "https://localhost:8080/"
        },
        "outputId": "6e05baf2-feeb-4ca4-8fa2-d74ddd69d0d5"
      },
      "execution_count": null,
      "outputs": [
        {
          "output_type": "stream",
          "name": "stdout",
          "text": [
            "11\n"
          ]
        }
      ]
    },
    {
      "cell_type": "code",
      "source": [
        "# Write a code to slice the first 3 characters from the string \"Python Programming\".\n",
        "sentence = \"Python Programming\"\n",
        "print(sentence[0:3])"
      ],
      "metadata": {
        "colab": {
          "base_uri": "https://localhost:8080/"
        },
        "id": "8Afu8s5b6NO9",
        "outputId": "eb2c6ca3-19ca-4750-adc4-931c9d6a8226"
      },
      "execution_count": null,
      "outputs": [
        {
          "output_type": "stream",
          "name": "stdout",
          "text": [
            "Pyt\n"
          ]
        }
      ]
    },
    {
      "cell_type": "code",
      "source": [
        "# Write a code to convert the string \"hello\" to uppercase.\n",
        "text = \"hello\"\n",
        "text.upper()"
      ],
      "metadata": {
        "colab": {
          "base_uri": "https://localhost:8080/",
          "height": 36
        },
        "id": "ghQgnRNz6eez",
        "outputId": "86033a39-706d-44ff-8a4d-4579e6fe5cb7"
      },
      "execution_count": null,
      "outputs": [
        {
          "output_type": "execute_result",
          "data": {
            "text/plain": [
              "'HELLO'"
            ],
            "application/vnd.google.colaboratory.intrinsic+json": {
              "type": "string"
            }
          },
          "metadata": {},
          "execution_count": 6
        }
      ]
    },
    {
      "cell_type": "code",
      "source": [
        "# Write a code to replace the word \"apple\" with \"orange\" in the string \"I like apple\".\n",
        "Str1 = \"I like apple\"\n",
        "Str1.replace(\"apple\", \"orange\")"
      ],
      "metadata": {
        "colab": {
          "base_uri": "https://localhost:8080/",
          "height": 36
        },
        "id": "kXKon5An7It1",
        "outputId": "fe23212a-a1a7-47e8-b322-b87bb71b30c6"
      },
      "execution_count": null,
      "outputs": [
        {
          "output_type": "execute_result",
          "data": {
            "text/plain": [
              "'I like orange'"
            ],
            "application/vnd.google.colaboratory.intrinsic+json": {
              "type": "string"
            }
          },
          "metadata": {},
          "execution_count": 9
        }
      ]
    },
    {
      "cell_type": "code",
      "source": [
        "# Write a code to create a list with numbers 1 to 5 and print it.\n",
        "List1 = [1,2,3,4,5]\n",
        "print(List1)"
      ],
      "metadata": {
        "colab": {
          "base_uri": "https://localhost:8080/"
        },
        "id": "mBFXoLDp7hPD",
        "outputId": "86d55979-62d3-4d75-ccf9-dfcbdde2dfa3"
      },
      "execution_count": null,
      "outputs": [
        {
          "output_type": "stream",
          "name": "stdout",
          "text": [
            "[1, 2, 3, 4, 5]\n"
          ]
        }
      ]
    },
    {
      "cell_type": "code",
      "source": [
        "# Write a code to append the number 10 to the list [1, 2, 3, 4]\n",
        "List2 = [1,2,3,4]\n",
        "List2.append(10)\n",
        "print(List2)"
      ],
      "metadata": {
        "colab": {
          "base_uri": "https://localhost:8080/"
        },
        "id": "p_ElxCPB76eh",
        "outputId": "b48c5e03-a8ab-4870-df00-b60b82a98c73"
      },
      "execution_count": null,
      "outputs": [
        {
          "output_type": "stream",
          "name": "stdout",
          "text": [
            "[1, 2, 3, 4, 10]\n"
          ]
        }
      ]
    },
    {
      "cell_type": "code",
      "source": [
        "# Write a code to remove the number 3 from the list [1, 2, 3, 4, 5].\n",
        "List3 = [1,2,3,4,5]\n",
        "List3.remove(3)\n",
        "print(List3)"
      ],
      "metadata": {
        "colab": {
          "base_uri": "https://localhost:8080/"
        },
        "id": "yriL67GN8Q2T",
        "outputId": "aaca6d8f-17c1-4b5f-ea2b-34d33885763e"
      },
      "execution_count": null,
      "outputs": [
        {
          "output_type": "stream",
          "name": "stdout",
          "text": [
            "[1, 2, 4, 5]\n"
          ]
        }
      ]
    },
    {
      "cell_type": "code",
      "source": [
        "# Write a code to access the second element in the list ['a', 'b', 'c', 'd']\n",
        "List4 = ['a', 'b', 'c','d',]\n",
        "List4[1]"
      ],
      "metadata": {
        "colab": {
          "base_uri": "https://localhost:8080/",
          "height": 36
        },
        "id": "Cm_3y0b082PS",
        "outputId": "bb6d9360-8260-4067-9ded-0344f6ea4c05"
      },
      "execution_count": null,
      "outputs": [
        {
          "output_type": "execute_result",
          "data": {
            "text/plain": [
              "'b'"
            ],
            "application/vnd.google.colaboratory.intrinsic+json": {
              "type": "string"
            }
          },
          "metadata": {},
          "execution_count": 19
        }
      ]
    },
    {
      "cell_type": "code",
      "source": [
        "#Write a code to reverse the list [10, 20, 30, 40, 50].\n",
        "List5 = [10,20,30,40,50]\n",
        "List5[::-1]"
      ],
      "metadata": {
        "colab": {
          "base_uri": "https://localhost:8080/"
        },
        "id": "4W2wJ_PQ9YDi",
        "outputId": "52fe7fcf-0ae0-4d93-f4c7-8dbdee26346b"
      },
      "execution_count": null,
      "outputs": [
        {
          "output_type": "execute_result",
          "data": {
            "text/plain": [
              "[50, 40, 30, 20, 10]"
            ]
          },
          "metadata": {},
          "execution_count": 25
        }
      ]
    },
    {
      "cell_type": "code",
      "source": [
        "#Write a code to create a tuple with the elements 100, 200, 300 and print it\n",
        "tuple1 = (100, 200, 300)\n",
        "tuple1"
      ],
      "metadata": {
        "colab": {
          "base_uri": "https://localhost:8080/"
        },
        "id": "7oaBGczq-rYZ",
        "outputId": "36696a15-a7b1-40a3-f57c-62484af9c4a1"
      },
      "execution_count": null,
      "outputs": [
        {
          "output_type": "execute_result",
          "data": {
            "text/plain": [
              "(100, 200, 300)"
            ]
          },
          "metadata": {},
          "execution_count": 29
        }
      ]
    },
    {
      "cell_type": "code",
      "source": [
        "#Write a code to access the second-to-last element of the tuple ('red', 'green', 'blue', 'yellow')\n",
        "tuple2 = ('red', 'green', 'blue', 'yellow')\n",
        "tuple2[-2]"
      ],
      "metadata": {
        "colab": {
          "base_uri": "https://localhost:8080/",
          "height": 36
        },
        "id": "XVOj_otF_izp",
        "outputId": "adcfb51f-61e1-4534-d07c-0d9edf1fbe67"
      },
      "execution_count": null,
      "outputs": [
        {
          "output_type": "execute_result",
          "data": {
            "text/plain": [
              "'blue'"
            ],
            "application/vnd.google.colaboratory.intrinsic+json": {
              "type": "string"
            }
          },
          "metadata": {},
          "execution_count": 30
        }
      ]
    },
    {
      "cell_type": "code",
      "source": [
        "# Write a code to find the minimum number in the tuple (10, 20, 5, 15).\n",
        "tup3 = (10, 20, 5, 15)\n",
        "min(tup3)"
      ],
      "metadata": {
        "colab": {
          "base_uri": "https://localhost:8080/"
        },
        "id": "pWZXqVP6_8T2",
        "outputId": "4e9be333-3d94-4724-bb76-e05c304527d0"
      },
      "execution_count": null,
      "outputs": [
        {
          "output_type": "execute_result",
          "data": {
            "text/plain": [
              "5"
            ]
          },
          "metadata": {},
          "execution_count": 34
        }
      ]
    },
    {
      "cell_type": "code",
      "source": [
        " # Write a code to find the index of the element \"cat\" in the tuple ('dog', 'cat', 'rabbit')\n",
        " tup4 = ('dog', 'cat', 'rabbit')\n",
        " tup4.index('cat')"
      ],
      "metadata": {
        "colab": {
          "base_uri": "https://localhost:8080/"
        },
        "id": "UPzObed1AL22",
        "outputId": "865d4629-7c94-4e2d-a2b0-76e93485d6b8"
      },
      "execution_count": null,
      "outputs": [
        {
          "output_type": "execute_result",
          "data": {
            "text/plain": [
              "1"
            ]
          },
          "metadata": {},
          "execution_count": 38
        }
      ]
    },
    {
      "cell_type": "code",
      "source": [
        "#  Write a code to create a tuple containing three different fruits and check if \"kiwi\" is in it.\n",
        "tup5 =  ('apple', 'banana', 'kiwi')\n",
        "'kiwi' in tup5"
      ],
      "metadata": {
        "colab": {
          "base_uri": "https://localhost:8080/"
        },
        "id": "DIXEl4F9BO4Y",
        "outputId": "5213afab-afe0-4f67-adcf-6574cccd1ed7"
      },
      "execution_count": null,
      "outputs": [
        {
          "output_type": "execute_result",
          "data": {
            "text/plain": [
              "True"
            ]
          },
          "metadata": {},
          "execution_count": 39
        }
      ]
    },
    {
      "cell_type": "code",
      "source": [
        "#  Write a code to create a set with the elements 'a', 'b', 'c' and print it.\n",
        "set1 = {'a','b','c'}\n",
        "set1"
      ],
      "metadata": {
        "colab": {
          "base_uri": "https://localhost:8080/"
        },
        "id": "VRFa7YCpCEOH",
        "outputId": "38d8e551-53b8-4314-abe2-4de16d535228"
      },
      "execution_count": null,
      "outputs": [
        {
          "output_type": "execute_result",
          "data": {
            "text/plain": [
              "{'a', 'b', 'c'}"
            ]
          },
          "metadata": {},
          "execution_count": 41
        }
      ]
    },
    {
      "cell_type": "code",
      "source": [
        "#  Write a code to clear all elements from the set\n",
        "string = {1, 2, 3, 4, 5}\n",
        "string.clear()\n",
        "string"
      ],
      "metadata": {
        "colab": {
          "base_uri": "https://localhost:8080/"
        },
        "id": "WL4QQtHNCzHl",
        "outputId": "5169ad8b-5f14-4589-a8d4-65b02017b5e3"
      },
      "execution_count": null,
      "outputs": [
        {
          "output_type": "execute_result",
          "data": {
            "text/plain": [
              "set()"
            ]
          },
          "metadata": {},
          "execution_count": 47
        }
      ]
    },
    {
      "cell_type": "code",
      "source": [
        "#  Write a code to remove the element 4 from the set {1, 2, 3, 4}.\n",
        "srting1 = {1, 2, 3, 4}\n",
        "srting1.remove(4)\n",
        "srting1"
      ],
      "metadata": {
        "id": "uRRcfdC7DMC1",
        "colab": {
          "base_uri": "https://localhost:8080/"
        },
        "outputId": "8b2d05ab-86c7-40a0-db64-0512d3614768"
      },
      "execution_count": null,
      "outputs": [
        {
          "output_type": "execute_result",
          "data": {
            "text/plain": [
              "{1, 2, 3}"
            ]
          },
          "metadata": {},
          "execution_count": 1
        }
      ]
    },
    {
      "cell_type": "code",
      "source": [
        "# Write a code to find the union of two sets {1, 2, 3} and {3, 4, 5}\n",
        "set1 = {1,2,3}\n",
        "set2 = {3,4,5}\n",
        "set1 | set2"
      ],
      "metadata": {
        "colab": {
          "base_uri": "https://localhost:8080/"
        },
        "id": "Q-GTqTsbXzlh",
        "outputId": "efb091fa-674a-4b0e-d5e4-e17cc5761234"
      },
      "execution_count": null,
      "outputs": [
        {
          "output_type": "execute_result",
          "data": {
            "text/plain": [
              "{1, 2, 3, 4, 5}"
            ]
          },
          "metadata": {},
          "execution_count": 3
        }
      ]
    },
    {
      "cell_type": "code",
      "source": [
        "# Write a code to find the intersection of two sets {1, 2, 3} and {2, 3, 4}.\n",
        "set1 = {1,2,3}\n",
        "set2 = {2,3,4}\n",
        "set1 & set2"
      ],
      "metadata": {
        "colab": {
          "base_uri": "https://localhost:8080/"
        },
        "id": "Vqdzk-jSYMCc",
        "outputId": "54daa307-2a50-459f-a3cd-119a704719a4"
      },
      "execution_count": null,
      "outputs": [
        {
          "output_type": "execute_result",
          "data": {
            "text/plain": [
              "{2, 3}"
            ]
          },
          "metadata": {},
          "execution_count": 6
        }
      ]
    },
    {
      "cell_type": "code",
      "source": [
        "# Write a code to create a dictionary with the keys \"name\", \"age\", and \"city\", and print it.\n",
        "dic1 = {\"name\": \"Summit\", \"age\": 27, \"city\": \"Mumbai\"}\n",
        "dic1"
      ],
      "metadata": {
        "colab": {
          "base_uri": "https://localhost:8080/"
        },
        "id": "o63Gbof9Yqpp",
        "outputId": "e06cf6f8-5523-4ac6-c8a4-4656bbacf16b"
      },
      "execution_count": null,
      "outputs": [
        {
          "output_type": "execute_result",
          "data": {
            "text/plain": [
              "{'name': 'Summit', 'age': 27, 'city': 'Mumbai'}"
            ]
          },
          "metadata": {},
          "execution_count": 7
        }
      ]
    },
    {
      "cell_type": "code",
      "source": [
        "# Write a code to add a new key-value pair \"country\": \"USA\" to the dictionary\n",
        "dic2 = {'name': 'John', 'age': 25}\n",
        "dic2['country'] = 'USA'\n",
        "dic2"
      ],
      "metadata": {
        "colab": {
          "base_uri": "https://localhost:8080/"
        },
        "id": "6FD_AVT3ZJ63",
        "outputId": "f83efc4b-29ec-4a73-a883-e6eee1a5d7fb"
      },
      "execution_count": null,
      "outputs": [
        {
          "output_type": "execute_result",
          "data": {
            "text/plain": [
              "{'name': 'John', 'age': 25, 'country': 'USA'}"
            ]
          },
          "metadata": {},
          "execution_count": 8
        }
      ]
    },
    {
      "cell_type": "code",
      "source": [
        "# Write a code to access the value associated with the key \"name\" in the dictionary {'name': 'Alice', 'age': 30}.\n",
        "dic3 = {'name': 'Alice', 'age': 30}\n",
        "dic3['name']"
      ],
      "metadata": {
        "colab": {
          "base_uri": "https://localhost:8080/",
          "height": 36
        },
        "id": "AI7B5BkaZXun",
        "outputId": "75034fc3-fdfe-45af-f5d2-35be3f52a3d7"
      },
      "execution_count": null,
      "outputs": [
        {
          "output_type": "execute_result",
          "data": {
            "text/plain": [
              "'Alice'"
            ],
            "application/vnd.google.colaboratory.intrinsic+json": {
              "type": "string"
            }
          },
          "metadata": {},
          "execution_count": 9
        }
      ]
    },
    {
      "cell_type": "code",
      "source": [
        "# Write a code to remove the key \"age\" from the dictionary {'name': 'Bob', 'age': 22, 'city': 'New York'}.\n",
        "dic4 = {'name': 'Bob', 'age': 22, 'city': 'New York'}\n",
        "dic4.pop('age')\n",
        "dic4"
      ],
      "metadata": {
        "colab": {
          "base_uri": "https://localhost:8080/"
        },
        "id": "PeOWVwsWZgTX",
        "outputId": "1e929f17-ec53-46b2-a86a-3490985ece8e"
      },
      "execution_count": null,
      "outputs": [
        {
          "output_type": "execute_result",
          "data": {
            "text/plain": [
              "{'name': 'Bob', 'city': 'New York'}"
            ]
          },
          "metadata": {},
          "execution_count": 11
        }
      ]
    },
    {
      "cell_type": "code",
      "source": [
        "# Write a code to check if the key \"city\" exists in the dictionary {'name': 'Alice', 'city': 'Paris'}.\n",
        "dic5 = {'name': 'Alice', 'city': 'Paris'}\n",
        "'city' in dic5"
      ],
      "metadata": {
        "colab": {
          "base_uri": "https://localhost:8080/"
        },
        "id": "z7zxGDu9ZnKW",
        "outputId": "19575960-857a-4612-8a26-f5c9e7d2c3b3"
      },
      "execution_count": null,
      "outputs": [
        {
          "output_type": "execute_result",
          "data": {
            "text/plain": [
              "True"
            ]
          },
          "metadata": {},
          "execution_count": 14
        }
      ]
    },
    {
      "cell_type": "code",
      "source": [
        "# Write a code to create a list, a tuple, and a dictionary, and print them all.\n",
        "list9 = ['sumit' , -1, 'true', 3.3]\n",
        "tuple9 = ('sumit' , -1, 'true', 3.3)\n",
        "dic9 = {'name': 'Alice', 'city': 'Paris'}\n",
        "print(list9)\n",
        "print(tuple9)\n",
        "print(dic9)"
      ],
      "metadata": {
        "colab": {
          "base_uri": "https://localhost:8080/"
        },
        "id": "Rfrq0NF_ajX-",
        "outputId": "da7cd19a-8b93-40d6-a28f-401c7126b587"
      },
      "execution_count": null,
      "outputs": [
        {
          "output_type": "stream",
          "name": "stdout",
          "text": [
            "['sumit', -1, 'true', 3.3]\n",
            "('sumit', -1, 'true', 3.3)\n",
            "{'name': 'Alice', 'city': 'Paris'}\n"
          ]
        }
      ]
    },
    {
      "cell_type": "code",
      "source": [
        "# Write a code to create a list of 5 random numbers between 1 and 100, sort it in ascending order, and print the result.(replaced)\n",
        "import random\n",
        "random_numbers = [random.randint(1, 100) for _ in range(5)]\n",
        "random_numbers.sort()\n",
        "random_numbers"
      ],
      "metadata": {
        "colab": {
          "base_uri": "https://localhost:8080/"
        },
        "id": "9fd8tMkVausg",
        "outputId": "96b8791c-c08a-4d1c-b96b-da5d4fd12c02"
      },
      "execution_count": null,
      "outputs": [
        {
          "output_type": "execute_result",
          "data": {
            "text/plain": [
              "[18, 34, 35, 49, 83]"
            ]
          },
          "metadata": {},
          "execution_count": 22
        }
      ]
    },
    {
      "cell_type": "code",
      "source": [
        "#Write a code to create a list with strings and print the element at the third index\n",
        "string_list = [\"apple\", \"banana\", \"cherry\", \"date\", \"elderberry\"]\n",
        "string_list[3]"
      ],
      "metadata": {
        "colab": {
          "base_uri": "https://localhost:8080/",
          "height": 36
        },
        "id": "PDspW9hEchhy",
        "outputId": "2f1fc855-db5c-4780-dce4-f183f25a3a61"
      },
      "execution_count": null,
      "outputs": [
        {
          "output_type": "execute_result",
          "data": {
            "text/plain": [
              "'date'"
            ],
            "application/vnd.google.colaboratory.intrinsic+json": {
              "type": "string"
            }
          },
          "metadata": {},
          "execution_count": 24
        }
      ]
    },
    {
      "cell_type": "code",
      "source": [
        "# Write a code to combine two dictionaries into one and print the result.\n",
        "dic1 = {'a': 1, 'b': 2}\n",
        "dic2 = {'c': 3, 'd': 4}\n",
        "dic1.update(dic2)\n",
        "dic1"
      ],
      "metadata": {
        "colab": {
          "base_uri": "https://localhost:8080/"
        },
        "id": "BZ-9_peYbZiQ",
        "outputId": "d2b7f64b-88cc-4f0f-9d88-a463299d9441"
      },
      "execution_count": null,
      "outputs": [
        {
          "output_type": "execute_result",
          "data": {
            "text/plain": [
              "{'a': 1, 'b': 2, 'c': 3, 'd': 4}"
            ]
          },
          "metadata": {},
          "execution_count": 25
        }
      ]
    },
    {
      "cell_type": "code",
      "source": [
        "# Write a code to convert a list of strings into a set.\n",
        "string_list = [\"apple\", \"banana\", \"cherry\", \"date\", \"elderberry\"]\n",
        "set(string_list)"
      ],
      "metadata": {
        "colab": {
          "base_uri": "https://localhost:8080/"
        },
        "id": "oqbklSW0dGu4",
        "outputId": "5824d1e9-f185-4b79-ba46-a5a80194cd5e"
      },
      "execution_count": null,
      "outputs": [
        {
          "output_type": "execute_result",
          "data": {
            "text/plain": [
              "{'apple', 'banana', 'cherry', 'date', 'elderberry'}"
            ]
          },
          "metadata": {},
          "execution_count": 26
        }
      ]
    },
    {
      "cell_type": "code",
      "source": [
        "type(string_list)"
      ],
      "metadata": {
        "colab": {
          "base_uri": "https://localhost:8080/"
        },
        "id": "7LDmGe1edPLe",
        "outputId": "8c72f850-2ed9-406a-c7f7-a3f3e6686544"
      },
      "execution_count": null,
      "outputs": [
        {
          "output_type": "execute_result",
          "data": {
            "text/plain": [
              "list"
            ]
          },
          "metadata": {},
          "execution_count": 28
        }
      ]
    },
    {
      "cell_type": "code",
      "source": [],
      "metadata": {
        "id": "ASOIqUeadVsu"
      },
      "execution_count": null,
      "outputs": []
    }
  ],
  "metadata": {
    "colab": {
      "provenance": []
    },
    "kernelspec": {
      "display_name": "Python 3",
      "name": "python3"
    },
    "language_info": {
      "name": "python"
    }
  },
  "nbformat": 4,
  "nbformat_minor": 0
}