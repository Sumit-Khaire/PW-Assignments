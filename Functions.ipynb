{
  "nbformat": 4,
  "nbformat_minor": 0,
  "metadata": {
    "colab": {
      "provenance": []
    },
    "kernelspec": {
      "name": "python3",
      "display_name": "Python 3"
    },
    "language_info": {
      "name": "python"
    }
  },
  "cells": [
    {
      "cell_type": "markdown",
      "source": [
        "**Python Basics Questionst**"
      ],
      "metadata": {
        "id": "SV344I5Ns1Uz"
      }
    },
    {
      "cell_type": "markdown",
      "source": [
        "What is Python, and why is it popular?\n",
        " - Python is a high-level programming language known for its readability and easy to use. It's widely popular due to its versatility, large and supportive community, extensive libraries."
      ],
      "metadata": {
        "id": "iXBWKxULRerk"
      }
    },
    {
      "cell_type": "markdown",
      "source": [
        "What is an interpreter in Python?\n",
        "- In Python, an interpreter is a program that reads Python code and executes it line by line, translating it into machine-readable bytecode before execution"
      ],
      "metadata": {
        "id": "krVFOx0IRY-d"
      }
    },
    {
      "cell_type": "markdown",
      "source": [
        "What are pre-defined keywords in Python?\n",
        " -  In Python, pre-defined keywords, are special identifiers with a specific meaning in the language's syntax. They cannot be used as variable, function, or class names."
      ],
      "metadata": {
        "id": "8RKGSGRgRZp9"
      }
    },
    {
      "cell_type": "markdown",
      "source": [
        "Can keywords be used as variable names ?\n",
        "- No not, keywords cannot be use as variable in Python."
      ],
      "metadata": {
        "id": "b-JYGQpxRZr3"
      }
    },
    {
      "cell_type": "markdown",
      "source": [
        "What is mutability in Python ?\n",
        " - After declaring the data type or variable of data type, if can be edited then it is called mutable data type. which means that data can be edited or modified at any point of time."
      ],
      "metadata": {
        "id": "bi6Ceo1ARZvC"
      }
    },
    {
      "cell_type": "markdown",
      "source": [
        "Why are lists mutable, but tuples are immutable ?\n",
        " - list is by default mutable, similarly tuples are immutable. Both have distinct uses."
      ],
      "metadata": {
        "id": "c83DgARmWxdF"
      }
    },
    {
      "cell_type": "markdown",
      "source": [
        "What is the difference between “==” and “is” operators in Python ?\n",
        " - Both the operator compares, but they compare different aspects of objects. '==' checks for equality of values, meaning it returns True if the two objects have the same content. 'is' checks for identity, meaning it returns True only if the two variables refer to the same object in memory.\n"
      ],
      "metadata": {
        "id": "udTzgyR4Wxqk"
      }
    },
    {
      "cell_type": "markdown",
      "source": [
        " What are logical operators in Python ?\n",
        "  - logical operators are 'AND' & 'NOT'. These operators are used to combine conditional statements and expressions, returning a Boolean result (True or False). They are used for making decisions and controlling the flow of your program based on the truth value of expressions"
      ],
      "metadata": {
        "id": "1TooaW93WyAX"
      }
    },
    {
      "cell_type": "markdown",
      "source": [
        " What is type casting in Python ?\n",
        "  - In Python type casting means changing the datatype or modifying, through which it is possible to change string to integer and integer to string"
      ],
      "metadata": {
        "id": "vX7h7_oWd_m1"
      }
    },
    {
      "cell_type": "markdown",
      "source": [
        "What is the difference between implicit and explicit type casting?\n",
        "- Implicit type casting, also known as automatic conversion, is performed by the compiler, it is by default. It occurs when a smaller data type is assigned to a larger data type or when performing operations where different data types are mixed. Explicit type casting, on the other hand, is when the programmer manually specifies the conversion between data types, often using a casting operator."
      ],
      "metadata": {
        "id": "Miti_3qmd_o9"
      }
    },
    {
      "cell_type": "markdown",
      "source": [
        "What is the purpose of conditional statements in Python ?\n",
        " - Conditional satements help to write code were we have to apply conditions. Condition satements verfies the criteria to execute the code, this way we can get specific desired outcome."
      ],
      "metadata": {
        "id": "S71id2zneAJg"
      }
    },
    {
      "cell_type": "markdown",
      "source": [
        "How does the elif statement work ?\n",
        " - The “elif” keyword in Python, stands for “else if”. It can be used in conditional statements to check for multiple conditions. For example, if the first condition is false, it moves on to the next “elif” statement to check if that condition is true."
      ],
      "metadata": {
        "id": "8qbGBXuQWyRh"
      }
    },
    {
      "cell_type": "markdown",
      "source": [
        "What is the difference between for and while loops ?\n",
        " - while loop repeatedly executed a block of code untill a condition is met, where in for loop is used to iterate things in assigned variable."
      ],
      "metadata": {
        "id": "n10Gwr6p8QQ0"
      }
    },
    {
      "cell_type": "markdown",
      "source": [
        "Describe a scenario where a while loop is more suitable than a for loop:\n",
        " - If we have to write a code for lest say where age verification criteria or different criteria should be fulfiled than using while loop is more suitable than for loop."
      ],
      "metadata": {
        "id": "5rk4tV-Y8QfS"
      }
    },
    {
      "cell_type": "markdown",
      "source": [
        "**Practical Questions**"
      ],
      "metadata": {
        "id": "D8yGK_0Z8Qhj"
      }
    },
    {
      "cell_type": "code",
      "source": [
        "#Write a Python program to print \"Hello, World!\n",
        "print(\"Hello, World!\")"
      ],
      "metadata": {
        "colab": {
          "base_uri": "https://localhost:8080/"
        },
        "id": "mcYZZm6XtNak",
        "outputId": "195553ab-ba05-4d1c-859f-f801cb5d7ad0"
      },
      "execution_count": null,
      "outputs": [
        {
          "output_type": "stream",
          "name": "stdout",
          "text": [
            "Hello, World!\n"
          ]
        }
      ]
    },
    {
      "cell_type": "code",
      "source": [
        "#  Write a Python program that displays your name and age?\n",
        "name = \"Sumit Sunil Kahire\"\n",
        "age = 25\n",
        "print(f\"My name is {name} and my age is {age}\")"
      ],
      "metadata": {
        "colab": {
          "base_uri": "https://localhost:8080/"
        },
        "id": "WIiWGSQtuSGa",
        "outputId": "b55cb1fa-5e3b-45f2-86c8-34b0eed9364d"
      },
      "execution_count": null,
      "outputs": [
        {
          "output_type": "stream",
          "name": "stdout",
          "text": [
            "My name is Sumit Sunil Kahire and my age is 25\n"
          ]
        }
      ]
    },
    {
      "cell_type": "code",
      "source": [
        "# Write code to print all the pre-defined keywords in Python using the keyword library?\n",
        "help('keywords')"
      ],
      "metadata": {
        "colab": {
          "base_uri": "https://localhost:8080/"
        },
        "id": "sxEzloi5x6t-",
        "outputId": "fe954210-e5f5-48da-f12c-adf763b0803d"
      },
      "execution_count": null,
      "outputs": [
        {
          "output_type": "stream",
          "name": "stdout",
          "text": [
            "\n",
            "Here is a list of the Python keywords.  Enter any keyword to get more help.\n",
            "\n",
            "False               class               from                or\n",
            "None                continue            global              pass\n",
            "True                def                 if                  raise\n",
            "and                 del                 import              return\n",
            "as                  elif                in                  try\n",
            "assert              else                is                  while\n",
            "async               except              lambda              with\n",
            "await               finally             nonlocal            yield\n",
            "break               for                 not                 \n",
            "\n"
          ]
        }
      ]
    },
    {
      "cell_type": "code",
      "source": [
        "# Write a program that checks if a given word is a Python keyword.\n",
        "name = \"Sumit\"\n",
        "'i' in (name)"
      ],
      "metadata": {
        "colab": {
          "base_uri": "https://localhost:8080/"
        },
        "id": "PzGHK0Pl1PcM",
        "outputId": "28ad7378-6151-4992-b608-389a942d5817"
      },
      "execution_count": null,
      "outputs": [
        {
          "output_type": "execute_result",
          "data": {
            "text/plain": [
              "True"
            ]
          },
          "metadata": {},
          "execution_count": 37
        }
      ]
    },
    {
      "cell_type": "code",
      "source": [
        "# Create a list and tuple in Python, and demonstrate how attempting to change an element works differently for each data type\n",
        "tuple = (1,2,3)\n",
        "tuple[0] = 8 # this will not work as tuples are not mutable\n",
        "#refer next cell"
      ],
      "metadata": {
        "colab": {
          "base_uri": "https://localhost:8080/",
          "height": 183
        },
        "id": "xmvQBY561tgZ",
        "outputId": "d4d37224-eb3f-4216-c9ed-2cc16ad4fa95"
      },
      "execution_count": null,
      "outputs": [
        {
          "output_type": "error",
          "ename": "TypeError",
          "evalue": "'tuple' object does not support item assignment",
          "traceback": [
            "\u001b[0;31m---------------------------------------------------------------------------\u001b[0m",
            "\u001b[0;31mTypeError\u001b[0m                                 Traceback (most recent call last)",
            "\u001b[0;32m<ipython-input-40-e811569d3838>\u001b[0m in \u001b[0;36m<cell line: 0>\u001b[0;34m()\u001b[0m\n\u001b[1;32m      1\u001b[0m \u001b[0;31m# Create a list and tuple in Python, and demonstrate how attempting to change an element works differently for each data type\u001b[0m\u001b[0;34m\u001b[0m\u001b[0;34m\u001b[0m\u001b[0m\n\u001b[1;32m      2\u001b[0m \u001b[0mtuple\u001b[0m \u001b[0;34m=\u001b[0m \u001b[0;34m(\u001b[0m\u001b[0;36m1\u001b[0m\u001b[0;34m,\u001b[0m\u001b[0;36m2\u001b[0m\u001b[0;34m,\u001b[0m\u001b[0;36m3\u001b[0m\u001b[0;34m)\u001b[0m\u001b[0;34m\u001b[0m\u001b[0;34m\u001b[0m\u001b[0m\n\u001b[0;32m----> 3\u001b[0;31m \u001b[0mtuple\u001b[0m\u001b[0;34m[\u001b[0m\u001b[0;36m0\u001b[0m\u001b[0;34m]\u001b[0m \u001b[0;34m=\u001b[0m \u001b[0;36m8\u001b[0m\u001b[0;34m\u001b[0m\u001b[0;34m\u001b[0m\u001b[0m\n\u001b[0m",
            "\u001b[0;31mTypeError\u001b[0m: 'tuple' object does not support item assignment"
          ]
        }
      ]
    },
    {
      "cell_type": "code",
      "source": [
        "# but for list\n",
        "list = [1,2,3]\n",
        "list[0] = 8\n",
        "list"
      ],
      "metadata": {
        "colab": {
          "base_uri": "https://localhost:8080/"
        },
        "id": "VgFyQtxd3lqQ",
        "outputId": "fdbf2b00-6ba2-40fc-8918-c7a6c41aabf9"
      },
      "execution_count": null,
      "outputs": [
        {
          "output_type": "execute_result",
          "data": {
            "text/plain": [
              "[8, 2, 3]"
            ]
          },
          "metadata": {},
          "execution_count": 41
        }
      ]
    },
    {
      "cell_type": "code",
      "source": [
        "# Write a function to demonstrate the behavior of mutable and immutable arguments?\n",
        "# lets take a example of list and string\n",
        "list2 = [\"sumit\", 3, 4.5, -2]\n",
        "list2[1] = \"changed\"\n",
        "list2\n",
        "#continued in next cell"
      ],
      "metadata": {
        "colab": {
          "base_uri": "https://localhost:8080/"
        },
        "id": "yIJLHgS_4PtQ",
        "outputId": "a8f7d91e-312e-4395-8e51-1be793109603"
      },
      "execution_count": null,
      "outputs": [
        {
          "output_type": "execute_result",
          "data": {
            "text/plain": [
              "['sumit', 'changed', 4.5, -2]"
            ]
          },
          "metadata": {},
          "execution_count": 42
        }
      ]
    },
    {
      "cell_type": "code",
      "source": [
        "#for string\n",
        "strg = \"sumit\"\n",
        "strg[0] = \"c\"\n",
        "strg #it will show error"
      ],
      "metadata": {
        "colab": {
          "base_uri": "https://localhost:8080/",
          "height": 201
        },
        "id": "wr4VO8lY4WOd",
        "outputId": "96cb3d74-8d2a-4242-dcbf-327b8f183edc"
      },
      "execution_count": null,
      "outputs": [
        {
          "output_type": "error",
          "ename": "TypeError",
          "evalue": "'str' object does not support item assignment",
          "traceback": [
            "\u001b[0;31m---------------------------------------------------------------------------\u001b[0m",
            "\u001b[0;31mTypeError\u001b[0m                                 Traceback (most recent call last)",
            "\u001b[0;32m<ipython-input-45-024b4c4f32e1>\u001b[0m in \u001b[0;36m<cell line: 0>\u001b[0;34m()\u001b[0m\n\u001b[1;32m      1\u001b[0m \u001b[0;31m#for string\u001b[0m\u001b[0;34m\u001b[0m\u001b[0;34m\u001b[0m\u001b[0m\n\u001b[1;32m      2\u001b[0m \u001b[0mstrg\u001b[0m \u001b[0;34m=\u001b[0m \u001b[0;34m\"sumit\"\u001b[0m\u001b[0;34m\u001b[0m\u001b[0;34m\u001b[0m\u001b[0m\n\u001b[0;32m----> 3\u001b[0;31m \u001b[0mstrg\u001b[0m\u001b[0;34m[\u001b[0m\u001b[0;36m0\u001b[0m\u001b[0;34m]\u001b[0m \u001b[0;34m=\u001b[0m \u001b[0;34m\"c\"\u001b[0m\u001b[0;34m\u001b[0m\u001b[0;34m\u001b[0m\u001b[0m\n\u001b[0m\u001b[1;32m      4\u001b[0m \u001b[0mstrg\u001b[0m\u001b[0;34m\u001b[0m\u001b[0;34m\u001b[0m\u001b[0m\n",
            "\u001b[0;31mTypeError\u001b[0m: 'str' object does not support item assignment"
          ]
        }
      ]
    },
    {
      "cell_type": "code",
      "source": [
        "# Write a program that performs basic arithmetic operations on two user-input numbers\n",
        "a = int(input(\"enter a number\"))\n",
        "b = int(input(\"another number\"))\n",
        "print(a**b)"
      ],
      "metadata": {
        "colab": {
          "base_uri": "https://localhost:8080/"
        },
        "id": "veHKDabn4V_u",
        "outputId": "85a472ad-bd6b-4386-d79f-e1ebc8e3ee00"
      },
      "execution_count": null,
      "outputs": [
        {
          "output_type": "stream",
          "name": "stdout",
          "text": [
            "enter a number2\n",
            "another number3\n",
            "8\n"
          ]
        }
      ]
    },
    {
      "cell_type": "code",
      "source": [
        "# Write a program to demonstrate the use of logical operators.\n",
        "a = int(input(\" My age\"))\n",
        "valid_age = True\n",
        "if ((a >= 18) and valid_age == True):\n",
        "    print(\"You can vote for election\")\n",
        "else:\n",
        "  print(\"Can't vote\")\n"
      ],
      "metadata": {
        "colab": {
          "base_uri": "https://localhost:8080/"
        },
        "id": "e0gm_5nj4V8-",
        "outputId": "cdacac57-41df-468d-9ad6-4a48cc08b7fd"
      },
      "execution_count": null,
      "outputs": [
        {
          "output_type": "stream",
          "name": "stdout",
          "text": [
            " My age16\n",
            "Can't vote\n"
          ]
        }
      ]
    },
    {
      "cell_type": "code",
      "source": [
        "#  Write a Python program to convert user input from string to integer, float, and boolean types\n",
        "number = input(\"Type a number\")\n",
        "print(int(number))\n",
        "print(float(number))\n",
        "print(bool(number))"
      ],
      "metadata": {
        "colab": {
          "base_uri": "https://localhost:8080/"
        },
        "id": "L3Czhl9y4V7A",
        "outputId": "dc4dd5b5-ccb1-44a2-80cc-09363542d43f"
      },
      "execution_count": null,
      "outputs": [
        {
          "output_type": "stream",
          "name": "stdout",
          "text": [
            "Type a number45\n",
            "45\n",
            "45.0\n",
            "True\n"
          ]
        }
      ]
    },
    {
      "cell_type": "code",
      "source": [
        "# Write code to demonstrate type casting with list elements\n",
        "a = \"7\"\n",
        "print(type(a))\n",
        "print(float(a))"
      ],
      "metadata": {
        "colab": {
          "base_uri": "https://localhost:8080/"
        },
        "id": "KXjnM10WCsrO",
        "outputId": "6bfdd364-911d-4c86-de1d-2a740011eed3"
      },
      "execution_count": null,
      "outputs": [
        {
          "output_type": "stream",
          "name": "stdout",
          "text": [
            "<class 'str'>\n",
            "7.0\n"
          ]
        }
      ]
    },
    {
      "cell_type": "code",
      "source": [
        "# Write a program that checks if a number is positive, negative, or zero.\n",
        "a = int(input(\"enter number to check \")) # enter number to check condition\n",
        "if a > 0:\n",
        "  print(\"number is positive\")\n",
        "elif a < 0:\n",
        "  print(\"number is negative\")\n",
        "else:\n",
        "  print(\"zero\")"
      ],
      "metadata": {
        "colab": {
          "base_uri": "https://localhost:8080/"
        },
        "id": "6xXbtfeCHp4-",
        "outputId": "1e483f56-25fc-4e92-b579-6f45d681a4d6"
      },
      "execution_count": null,
      "outputs": [
        {
          "output_type": "stream",
          "name": "stdout",
          "text": [
            "enter number to check 4\n",
            "number is positive\n"
          ]
        }
      ]
    },
    {
      "cell_type": "code",
      "source": [
        "# Write a for loop to print numbers from 1 to 10.\n",
        "for i in range(10):\n",
        "  print(i+1)"
      ],
      "metadata": {
        "colab": {
          "base_uri": "https://localhost:8080/"
        },
        "id": "wJt5df5RJXG3",
        "outputId": "a485de45-7f24-4c39-9abf-e9feb606313e"
      },
      "execution_count": null,
      "outputs": [
        {
          "output_type": "stream",
          "name": "stdout",
          "text": [
            "1\n",
            "2\n",
            "3\n",
            "4\n",
            "5\n",
            "6\n",
            "7\n",
            "8\n",
            "9\n",
            "10\n"
          ]
        }
      ]
    },
    {
      "cell_type": "code",
      "source": [
        "# Write a Python program to find the sum of all even numbers between 1 and 50\n",
        "sum_of_evens = 0\n",
        "for i in range(2, 51, 2):\n",
        "    sum_of_evens += i\n",
        "sum_of_evens"
      ],
      "metadata": {
        "colab": {
          "base_uri": "https://localhost:8080/"
        },
        "id": "1Rmyb6ZHJXA4",
        "outputId": "ef8883f2-7a63-485e-82a8-337fb0c196f1"
      },
      "execution_count": null,
      "outputs": [
        {
          "output_type": "execute_result",
          "data": {
            "text/plain": [
              "650"
            ]
          },
          "metadata": {},
          "execution_count": 117
        }
      ]
    },
    {
      "cell_type": "code",
      "source": [
        "# Write a program to reverse a string using a while loop.\n",
        "str1 = \"Pwskills\"\n",
        "reversed_string = \"\"\n",
        "index = len(str1) - 1\n",
        "\n",
        "while index >= 0:\n",
        "  reversed_string += str1[index]\n",
        "  index -= 1\n",
        "\n",
        "reversed_string"
      ],
      "metadata": {
        "id": "vd-LQgHpPnLH",
        "colab": {
          "base_uri": "https://localhost:8080/",
          "height": 36
        },
        "outputId": "a6718e0f-9c11-4210-f8d4-7f7d69e403f4"
      },
      "execution_count": null,
      "outputs": [
        {
          "output_type": "execute_result",
          "data": {
            "text/plain": [
              "'sllikswP'"
            ],
            "application/vnd.google.colaboratory.intrinsic+json": {
              "type": "string"
            }
          },
          "metadata": {},
          "execution_count": 8
        }
      ]
    },
    {
      "cell_type": "code",
      "source": [
        "#  Write a Python program to calculate the factorial of a number provided by the user using a while loop.\n",
        "num = int(input(\"Enter a non-negative integer: \"))\n",
        "factorial = 1\n",
        "i = 1\n",
        "while i <= num:\n",
        "  factorial *= i\n",
        "  i += 1\n",
        "print(f\"The factorial of {num} is {factorial}\")"
      ],
      "metadata": {
        "id": "Nk43tGapSRnR",
        "colab": {
          "base_uri": "https://localhost:8080/"
        },
        "outputId": "8529c06d-5fb4-4ac4-cbfa-356a26503125"
      },
      "execution_count": null,
      "outputs": [
        {
          "output_type": "stream",
          "name": "stdout",
          "text": [
            "Enter a non-negative integer: 5\n",
            "The factorial of 5 is 120\n"
          ]
        }
      ]
    }
  ]
}